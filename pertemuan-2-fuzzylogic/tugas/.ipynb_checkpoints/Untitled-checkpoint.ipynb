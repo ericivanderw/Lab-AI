{
 "cells": [
  {
   "cell_type": "code",
   "execution_count": 5,
   "id": "629315da-e254-4c1c-9652-7712239101bb",
   "metadata": {},
   "outputs": [
    {
     "name": "stdout",
     "output_type": "stream",
     "text": [
      "   id       suhu\n",
      "0   1  32.144783\n",
      "1   2  18.396227\n",
      "2   3  35.665314\n",
      "3   4  24.052186\n",
      "4   5  29.715055\n"
     ]
    }
   ],
   "source": [
    "import numpy as np\n",
    "import skfuzzy as fuzz\n",
    "import matplotlib.pyplot as plt\n",
    "import pandas as pd\n",
    "\n",
    "df = pd.read_csv(\"dataset_suhu.csv\")\n",
    "\n",
    "print(df.head())\n"
   ]
  },
  {
   "cell_type": "code",
   "execution_count": 10,
   "id": "f194f164-a305-4780-afc3-230524877532",
   "metadata": {},
   "outputs": [],
   "source": [
    "def trimf(x,a,b,c):\n",
    "    if x<=a or x>=c:\n",
    "        return 0.0\n",
    "    elif x==b:\n",
    "        return 1.0\n",
    "    elif x<b:\n",
    "        return (x-a)/(b-a)\n",
    "    else:\n",
    "            return (c-x)/(c-b)\n",
    "\n",
    "def dingin(x):\n",
    "    return trimf(x,18,20,24)\n",
    "def hangat(x):\n",
    "    return trimf(x,22,27,32)\n",
    "def panas(x):\n",
    "    return trimf(x,30,34,36)\n"
   ]
  },
  {
   "cell_type": "code",
   "execution_count": 9,
   "id": "718eac7d-63d0-4cfd-ae5c-0fd9ac67cbda",
   "metadata": {},
   "outputs": [
    {
     "ename": "AttributeError",
     "evalue": "'Series' object has no attribute 'dingin'",
     "output_type": "error",
     "traceback": [
      "\u001b[31m---------------------------------------------------------------------------\u001b[39m",
      "\u001b[31mAttributeError\u001b[39m                            Traceback (most recent call last)",
      "\u001b[32m~\\AppData\\Local\\Temp\\ipykernel_21380\\541659176.py\u001b[39m in \u001b[36m?\u001b[39m\u001b[34m()\u001b[39m\n\u001b[32m----> \u001b[39m\u001b[32m1\u001b[39m df[\u001b[33m\"m_dingin\"\u001b[39m] = df[\u001b[33m\"suhu\"\u001b[39m].dingin()\n\u001b[32m      2\u001b[39m df[\u001b[33m\"m_hangat\"\u001b[39m] = df[\u001b[33m\"suhu\"\u001b[39m].apply(hangat())\n\u001b[32m      3\u001b[39m df[\u001b[33m\"m_panas\"\u001b[39m] = df[\u001b[33m\"suhu\"\u001b[39m].apply(panas())\n",
      "\u001b[32m~\\anaconda3\\envs\\venv2\\Lib\\site-packages\\pandas\\core\\generic.py\u001b[39m in \u001b[36m?\u001b[39m\u001b[34m(self, name)\u001b[39m\n\u001b[32m   6314\u001b[39m             \u001b[38;5;28;01mand\u001b[39;00m name \u001b[38;5;28;01mnot\u001b[39;00m \u001b[38;5;28;01min\u001b[39;00m self._accessors\n\u001b[32m   6315\u001b[39m             \u001b[38;5;28;01mand\u001b[39;00m self._info_axis._can_hold_identifiers_and_holds_name(name)\n\u001b[32m   6316\u001b[39m         ):\n\u001b[32m   6317\u001b[39m             \u001b[38;5;28;01mreturn\u001b[39;00m self[name]\n\u001b[32m-> \u001b[39m\u001b[32m6318\u001b[39m         \u001b[38;5;28;01mreturn\u001b[39;00m object.__getattribute__(self, name)\n",
      "\u001b[31mAttributeError\u001b[39m: 'Series' object has no attribute 'dingin'"
     ]
    }
   ],
   "source": [
    "#defuzzification\n",
    "centers = {\"dingin\":20,\"hangat\":50,\"panas\":80}\n",
    "\n"
   ]
  },
  {
   "cell_type": "code",
   "execution_count": null,
   "id": "5d331997-4940-41d0-8e02-2514501692a9",
   "metadata": {},
   "outputs": [],
   "source": []
  }
 ],
 "metadata": {
  "kernelspec": {
   "display_name": "Python [conda env:venv2]",
   "language": "python",
   "name": "conda-env-venv2-py"
  },
  "language_info": {
   "codemirror_mode": {
    "name": "ipython",
    "version": 3
   },
   "file_extension": ".py",
   "mimetype": "text/x-python",
   "name": "python",
   "nbconvert_exporter": "python",
   "pygments_lexer": "ipython3",
   "version": "3.12.11"
  }
 },
 "nbformat": 4,
 "nbformat_minor": 5
}
