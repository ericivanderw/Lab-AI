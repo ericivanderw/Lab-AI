{
 "cells": [
  {
   "cell_type": "code",
   "execution_count": 16,
   "id": "54503957",
   "metadata": {},
   "outputs": [],
   "source": [
    "import numpy as np\n",
    "import pandas as pd\n",
    "import matplotlib.pyplot as plt\n",
    "import skfuzzy as fuzz\n",
    "from skfuzzy import control as ctrl"
   ]
  },
  {
   "cell_type": "code",
   "execution_count": 17,
   "id": "b57e2825",
   "metadata": {},
   "outputs": [],
   "source": [
    "r_range = np.linspace(0, 10, 101)\n",
    "t_range = np.linspace(0, 100, 101)\n",
    "\n",
    "rasa = ctrl.Antecedent(r_range, 'rasa')\n",
    "layanan = ctrl.Antecedent(r_range, 'layanan')\n",
    "tip = ctrl.Consequent(t_range, 'tip')\n",
    "\n",
    "#membership function\n",
    "rasa['buruk']  = fuzz.trimf(rasa.universe, [0, 0, 5])\n",
    "rasa['sedang'] = fuzz.trimf(rasa.universe, [0, 5, 10])\n",
    "rasa['enak']   = fuzz.trimf(rasa.universe, [5, 10, 10])\n",
    "\n",
    "layanan['buruk']  = fuzz.trimf(layanan.universe, [0, 0, 5])\n",
    "layanan['sedang'] = fuzz.trimf(layanan.universe, [0, 5, 10])\n",
    "layanan['bagus']  = fuzz.trimf(layanan.universe, [5, 10, 10])\n",
    "\n",
    "tip['sedikit'] = fuzz.trimf(tip.universe, [0, 0, 50])\n",
    "tip['sedang']  = fuzz.trimf(tip.universe, [25, 50, 75])\n",
    "tip['banyak']  = fuzz.trimf(tip.universe, [50, 100, 100])"
   ]
  },
  {
   "cell_type": "code",
   "execution_count": 18,
   "id": "18df3270",
   "metadata": {},
   "outputs": [],
   "source": [
    "# Rules\n",
    "rule1 = ctrl.Rule(rasa['buruk']  & layanan['buruk'],  tip['sedikit'])\n",
    "rule2 = ctrl.Rule(rasa['buruk']  & layanan['sedang'],  tip['sedikit'])\n",
    "rule3 = ctrl.Rule(rasa['buruk']  & layanan['bagus'],   tip['sedang'])\n",
    "rule4 = ctrl.Rule(rasa['sedang'] & layanan['buruk'],  tip['sedikit'])\n",
    "rule5 = ctrl.Rule(rasa['sedang'] & layanan['sedang'], tip['sedang'])\n",
    "rule6 = ctrl.Rule(rasa['sedang'] & layanan['bagus'],  tip['banyak'])\n",
    "rule7 = ctrl.Rule(rasa['enak']   & layanan['buruk'],  tip['sedang'])\n",
    "rule8 = ctrl.Rule(rasa['enak']   & layanan['sedang'], tip['banyak'])\n",
    "rule9 = ctrl.Rule(rasa['enak']   & layanan['bagus'],  tip['banyak'])\n",
    "\n",
    "# Control System dan simulasi\n",
    "tipping_ctrl = ctrl.ControlSystem([rule1, rule2, rule3, rule4, rule5, rule6, rule7, rule8, rule9])\n",
    "tipping = ctrl.ControlSystemSimulation(tipping_ctrl)"
   ]
  },
  {
   "cell_type": "code",
   "execution_count": 29,
   "id": "b46b918e",
   "metadata": {},
   "outputs": [],
   "source": [
    "df = pd.read_csv(\"dataset_kualitas_pelayanan.csv\")\n",
    "\n",
    "tips = []\n",
    "for _, row in df.iterrows():\n",
    "    tipping.input['rasa'] = row['rasa']\n",
    "    tipping.input['layanan'] = row['layanan']\n",
    "    tipping.compute()\n",
    "    tips.append(round(tipping.output['tip'], 2))\n",
    "\n",
    "df['tip'] = tips\n",
    "\n",
    "csv_path = \"dataset_kualitas_pelayanan_setelah_fuzzy.csv\"\n",
    "df.to_csv(csv_path, index=False)"
   ]
  },
  {
   "cell_type": "code",
   "execution_count": 30,
   "id": "154356be",
   "metadata": {},
   "outputs": [
    {
     "data": {
      "image/png": "[encoded data removed]",
      "text/plain": [
       "<Figure size 800x400 with 1 Axes>"
      ]
     },
     "metadata": {},
     "output_type": "display_data"
    }
   ],
   "source": [
    "plt.figure(figsize=(8,4))\n",
    "plt.hist(df['tip'], bins=15)\n",
    "plt.title('Distribusi Tip')\n",
    "plt.xlabel('Tip (%)')\n",
    "plt.ylabel('Frekuensi')\n",
    "plt.grid(True)\n",
    "plt.show()"
   ]
  },
  {
   "cell_type": "code",
   "execution_count": 3,
   "id": "cd28bcce-eb7a-46a5-8e29-c59db726d139",
   "metadata": {},
   "outputs": [
    {
     "name": "stdout",
     "output_type": "stream",
     "text": [
      "Collecting pipreqs\n",
      "  Downloading pipreqs-0.5.0-py3-none-any.whl.metadata (7.9 kB)\n",
      "Collecting docopt==0.6.2 (from pipreqs)\n",
      "  Downloading docopt-0.6.2.tar.gz (25 kB)\n",
      "  Preparing metadata (setup.py): started\n",
      "  Preparing metadata (setup.py): finished with status 'done'\n",
      "Collecting ipython==8.12.3 (from pipreqs)\n",
      "  Downloading ipython-8.12.3-py3-none-any.whl.metadata (5.7 kB)\n",
      "Requirement already satisfied: nbconvert<8.0.0,>=7.11.0 in c:\\users\\asus\\anaconda3\\envs\\venv2\\lib\\site-packages (from pipreqs) (7.16.6)\n",
      "Collecting yarg==0.1.9 (from pipreqs)\n",
      "  Downloading yarg-0.1.9-py2.py3-none-any.whl.metadata (4.6 kB)\n",
      "Collecting backcall (from ipython==8.12.3->pipreqs)\n",
      "  Downloading backcall-0.2.0-py2.py3-none-any.whl.metadata (2.0 kB)\n",
      "Requirement already satisfied: decorator in c:\\users\\asus\\anaconda3\\envs\\venv2\\lib\\site-packages (from ipython==8.12.3->pipreqs) (5.2.1)\n",
      "Requirement already satisfied: jedi>=0.16 in c:\\users\\asus\\anaconda3\\envs\\venv2\\lib\\site-packages (from ipython==8.12.3->pipreqs) (0.19.2)\n",
      "Requirement already satisfied: matplotlib-inline in c:\\users\\asus\\anaconda3\\envs\\venv2\\lib\\site-packages (from ipython==8.12.3->pipreqs) (0.1.7)\n",
      "Collecting pickleshare (from ipython==8.12.3->pipreqs)\n",
      "  Downloading pickleshare-0.7.5-py2.py3-none-any.whl.metadata (1.5 kB)\n",
      "Requirement already satisfied: prompt-toolkit!=3.0.37,<3.1.0,>=3.0.30 in c:\\users\\asus\\anaconda3\\envs\\venv2\\lib\\site-packages (from ipython==8.12.3->pipreqs) (3.0.43)\n",
      "Requirement already satisfied: pygments>=2.4.0 in c:\\users\\asus\\anaconda3\\envs\\venv2\\lib\\site-packages (from ipython==8.12.3->pipreqs) (2.19.1)\n",
      "Requirement already satisfied: stack-data in c:\\users\\asus\\anaconda3\\envs\\venv2\\lib\\site-packages (from ipython==8.12.3->pipreqs) (0.6.3)\n",
      "Requirement already satisfied: traitlets>=5 in c:\\users\\asus\\anaconda3\\envs\\venv2\\lib\\site-packages (from ipython==8.12.3->pipreqs) (5.14.3)\n",
      "Requirement already satisfied: colorama in c:\\users\\asus\\anaconda3\\envs\\venv2\\lib\\site-packages (from ipython==8.12.3->pipreqs) (0.4.6)\n",
      "Requirement already satisfied: requests in c:\\users\\asus\\anaconda3\\envs\\venv2\\lib\\site-packages (from yarg==0.1.9->pipreqs) (2.32.5)\n",
      "Requirement already satisfied: beautifulsoup4 in c:\\users\\asus\\anaconda3\\envs\\venv2\\lib\\site-packages (from nbconvert<8.0.0,>=7.11.0->pipreqs) (4.13.5)\n",
      "Requirement already satisfied: bleach!=5.0.0 in c:\\users\\asus\\anaconda3\\envs\\venv2\\lib\\site-packages (from bleach[css]!=5.0.0->nbconvert<8.0.0,>=7.11.0->pipreqs) (6.2.0)\n",
      "Requirement already satisfied: defusedxml in c:\\users\\asus\\anaconda3\\envs\\venv2\\lib\\site-packages (from nbconvert<8.0.0,>=7.11.0->pipreqs) (0.7.1)\n",
      "Requirement already satisfied: jinja2>=3.0 in c:\\users\\asus\\anaconda3\\envs\\venv2\\lib\\site-packages (from nbconvert<8.0.0,>=7.11.0->pipreqs) (3.1.6)\n",
      "Requirement already satisfied: jupyter-core>=4.7 in c:\\users\\asus\\anaconda3\\envs\\venv2\\lib\\site-packages (from nbconvert<8.0.0,>=7.11.0->pipreqs) (5.8.1)\n",
      "Requirement already satisfied: jupyterlab-pygments in c:\\users\\asus\\anaconda3\\envs\\venv2\\lib\\site-packages (from nbconvert<8.0.0,>=7.11.0->pipreqs) (0.3.0)\n",
      "Requirement already satisfied: markupsafe>=2.0 in c:\\users\\asus\\anaconda3\\envs\\venv2\\lib\\site-packages (from nbconvert<8.0.0,>=7.11.0->pipreqs) (3.0.2)\n",
      "Requirement already satisfied: mistune<4,>=2.0.3 in c:\\users\\asus\\anaconda3\\envs\\venv2\\lib\\site-packages (from nbconvert<8.0.0,>=7.11.0->pipreqs) (3.1.2)\n",
      "Requirement already satisfied: nbclient>=0.5.0 in c:\\users\\asus\\anaconda3\\envs\\venv2\\lib\\site-packages (from nbconvert<8.0.0,>=7.11.0->pipreqs) (0.10.2)\n",
      "Requirement already satisfied: nbformat>=5.7 in c:\\users\\asus\\anaconda3\\envs\\venv2\\lib\\site-packages (from nbconvert<8.0.0,>=7.11.0->pipreqs) (5.10.4)\n",
      "Requirement already satisfied: packaging in c:\\users\\asus\\anaconda3\\envs\\venv2\\lib\\site-packages (from nbconvert<8.0.0,>=7.11.0->pipreqs) (25.0)\n",
      "Requirement already satisfied: pandocfilters>=1.4.1 in c:\\users\\asus\\anaconda3\\envs\\venv2\\lib\\site-packages (from nbconvert<8.0.0,>=7.11.0->pipreqs) (1.5.1)\n",
      "Requirement already satisfied: wcwidth in c:\\users\\asus\\anaconda3\\envs\\venv2\\lib\\site-packages (from prompt-toolkit!=3.0.37,<3.1.0,>=3.0.30->ipython==8.12.3->pipreqs) (0.2.13)\n",
      "Requirement already satisfied: webencodings in c:\\users\\asus\\anaconda3\\envs\\venv2\\lib\\site-packages (from bleach!=5.0.0->bleach[css]!=5.0.0->nbconvert<8.0.0,>=7.11.0->pipreqs) (0.5.1)\n",
      "Requirement already satisfied: tinycss2<1.5,>=1.1.0 in c:\\users\\asus\\anaconda3\\envs\\venv2\\lib\\site-packages (from bleach[css]!=5.0.0->nbconvert<8.0.0,>=7.11.0->pipreqs) (1.4.0)\n",
      "Requirement already satisfied: parso<0.9.0,>=0.8.4 in c:\\users\\asus\\anaconda3\\envs\\venv2\\lib\\site-packages (from jedi>=0.16->ipython==8.12.3->pipreqs) (0.8.4)\n",
      "Requirement already satisfied: platformdirs>=2.5 in c:\\users\\asus\\anaconda3\\envs\\venv2\\lib\\site-packages (from jupyter-core>=4.7->nbconvert<8.0.0,>=7.11.0->pipreqs) (4.3.7)\n",
      "Requirement already satisfied: pywin32>=300 in c:\\users\\asus\\anaconda3\\envs\\venv2\\lib\\site-packages (from jupyter-core>=4.7->nbconvert<8.0.0,>=7.11.0->pipreqs) (311)\n",
      "Requirement already satisfied: jupyter-client>=6.1.12 in c:\\users\\asus\\anaconda3\\envs\\venv2\\lib\\site-packages (from nbclient>=0.5.0->nbconvert<8.0.0,>=7.11.0->pipreqs) (8.6.3)\n",
      "Requirement already satisfied: python-dateutil>=2.8.2 in c:\\users\\asus\\anaconda3\\envs\\venv2\\lib\\site-packages (from jupyter-client>=6.1.12->nbclient>=0.5.0->nbconvert<8.0.0,>=7.11.0->pipreqs) (2.9.0.post0)\n",
      "Requirement already satisfied: pyzmq>=23.0 in c:\\users\\asus\\anaconda3\\envs\\venv2\\lib\\site-packages (from jupyter-client>=6.1.12->nbclient>=0.5.0->nbconvert<8.0.0,>=7.11.0->pipreqs) (27.1.0)\n",
      "Requirement already satisfied: tornado>=6.2 in c:\\users\\asus\\anaconda3\\envs\\venv2\\lib\\site-packages (from jupyter-client>=6.1.12->nbclient>=0.5.0->nbconvert<8.0.0,>=7.11.0->pipreqs) (6.5.1)\n",
      "Requirement already satisfied: fastjsonschema>=2.15 in c:\\users\\asus\\anaconda3\\envs\\venv2\\lib\\site-packages (from nbformat>=5.7->nbconvert<8.0.0,>=7.11.0->pipreqs) (2.20.0)\n",
      "Requirement already satisfied: jsonschema>=2.6 in c:\\users\\asus\\anaconda3\\envs\\venv2\\lib\\site-packages (from nbformat>=5.7->nbconvert<8.0.0,>=7.11.0->pipreqs) (4.25.0)\n",
      "Requirement already satisfied: attrs>=22.2.0 in c:\\users\\asus\\anaconda3\\envs\\venv2\\lib\\site-packages (from jsonschema>=2.6->nbformat>=5.7->nbconvert<8.0.0,>=7.11.0->pipreqs) (24.3.0)\n",
      "Requirement already satisfied: jsonschema-specifications>=2023.03.6 in c:\\users\\asus\\anaconda3\\envs\\venv2\\lib\\site-packages (from jsonschema>=2.6->nbformat>=5.7->nbconvert<8.0.0,>=7.11.0->pipreqs) (2023.7.1)\n",
      "Requirement already satisfied: referencing>=0.28.4 in c:\\users\\asus\\anaconda3\\envs\\venv2\\lib\\site-packages (from jsonschema>=2.6->nbformat>=5.7->nbconvert<8.0.0,>=7.11.0->pipreqs) (0.30.2)\n",
      "Requirement already satisfied: rpds-py>=0.7.1 in c:\\users\\asus\\anaconda3\\envs\\venv2\\lib\\site-packages (from jsonschema>=2.6->nbformat>=5.7->nbconvert<8.0.0,>=7.11.0->pipreqs) (0.22.3)\n",
      "Requirement already satisfied: six>=1.5 in c:\\users\\asus\\anaconda3\\envs\\venv2\\lib\\site-packages (from python-dateutil>=2.8.2->jupyter-client>=6.1.12->nbclient>=0.5.0->nbconvert<8.0.0,>=7.11.0->pipreqs) (1.17.0)\n",
      "Requirement already satisfied: soupsieve>1.2 in c:\\users\\asus\\anaconda3\\envs\\venv2\\lib\\site-packages (from beautifulsoup4->nbconvert<8.0.0,>=7.11.0->pipreqs) (2.5)\n",
      "Requirement already satisfied: typing-extensions>=4.0.0 in c:\\users\\asus\\anaconda3\\envs\\venv2\\lib\\site-packages (from beautifulsoup4->nbconvert<8.0.0,>=7.11.0->pipreqs) (4.15.0)\n",
      "Requirement already satisfied: charset_normalizer<4,>=2 in c:\\users\\asus\\anaconda3\\envs\\venv2\\lib\\site-packages (from requests->yarg==0.1.9->pipreqs) (3.3.2)\n",
      "Requirement already satisfied: idna<4,>=2.5 in c:\\users\\asus\\anaconda3\\envs\\venv2\\lib\\site-packages (from requests->yarg==0.1.9->pipreqs) (3.7)\n",
      "Requirement already satisfied: urllib3<3,>=1.21.1 in c:\\users\\asus\\anaconda3\\envs\\venv2\\lib\\site-packages (from requests->yarg==0.1.9->pipreqs) (2.5.0)\n",
      "Requirement already satisfied: certifi>=2017.4.17 in c:\\users\\asus\\anaconda3\\envs\\venv2\\lib\\site-packages (from requests->yarg==0.1.9->pipreqs) (2025.8.3)\n",
      "Requirement already satisfied: executing>=1.2.0 in c:\\users\\asus\\anaconda3\\envs\\venv2\\lib\\site-packages (from stack-data->ipython==8.12.3->pipreqs) (2.2.1)\n",
      "Requirement already satisfied: asttokens>=2.1.0 in c:\\users\\asus\\anaconda3\\envs\\venv2\\lib\\site-packages (from stack-data->ipython==8.12.3->pipreqs) (3.0.0)\n",
      "Requirement already satisfied: pure_eval in c:\\users\\asus\\anaconda3\\envs\\venv2\\lib\\site-packages (from stack-data->ipython==8.12.3->pipreqs) (0.2.3)\n",
      "Downloading pipreqs-0.5.0-py3-none-any.whl (33 kB)\n",
      "Downloading ipython-8.12.3-py3-none-any.whl (798 kB)\n",
      "   ---------------------------------------- 0.0/798.3 kB ? eta -:--:--\n",
      "   ------------- -------------------------- 262.1/798.3 kB ? eta -:--:--\n",
      "   -------------------------- ------------- 524.3/798.3 kB 2.8 MB/s eta 0:00:01\n",
      "   ---------------------------------------- 798.3/798.3 kB 1.8 MB/s  0:00:00\n",
      "Downloading yarg-0.1.9-py2.py3-none-any.whl (19 kB)\n",
      "Downloading backcall-0.2.0-py2.py3-none-any.whl (11 kB)\n",
      "Downloading pickleshare-0.7.5-py2.py3-none-any.whl (6.9 kB)\n",
      "Building wheels for collected packages: docopt\n",
      "  Building wheel for docopt (setup.py): started\n",
      "  Building wheel for docopt (setup.py): finished with status 'done'\n",
      "  Created wheel for docopt: filename=docopt-0.6.2-py2.py3-none-any.whl size=13856 sha256=dab6d46753ed1a90f46d9f89854ec2d569639276673396311e64162edb9b284c\n",
      "  Stored in directory: c:\\users\\asus\\appdata\\local\\pip\\cache\\wheels\\1a\\bf\\a1\\4cee4f7678c68c5875ca89eaccf460593539805c3906722228\n",
      "Successfully built docopt\n",
      "Installing collected packages: pickleshare, docopt, backcall, yarg, ipython, pipreqs\n",
      "\n",
      "  Attempting uninstall: ipython\n",
      "\n",
      "    Found existing installation: ipython 9.1.0\n",
      "\n",
      "    Uninstalling ipython-9.1.0:\n",
      "\n",
      "      Successfully uninstalled ipython-9.1.0\n",
      "\n",
      "   -------------------------- ------------- 4/6 [ipython]\n",
      "   -------------------------- ------------- 4/6 [ipython]\n",
      "   -------------------------- ------------- 4/6 [ipython]\n",
      "   -------------------------- ------------- 4/6 [ipython]\n",
      "   -------------------------- ------------- 4/6 [ipython]\n",
      "   -------------------------- ------------- 4/6 [ipython]\n",
      "   ---------------------------------------- 6/6 [pipreqs]\n",
      "\n",
      "Successfully installed backcall-0.2.0 docopt-0.6.2 ipython-8.12.3 pickleshare-0.7.5 pipreqs-0.5.0 yarg-0.1.9\n"
     ]
    },
    {
     "name": "stderr",
     "output_type": "stream",
     "text": [
      "  DEPRECATION: Building 'docopt' using the legacy setup.py bdist_wheel mechanism, which will be removed in a future version. pip 25.3 will enforce this behaviour change. A possible replacement is to use the standardized build interface by setting the `--use-pep517` option, (possibly combined with `--no-build-isolation`), or adding a `pyproject.toml` file to the source tree of 'docopt'. Discussion can be found at https://github.com/pypa/pip/issues/6334\n"
     ]
    }
   ],
   "source": [
    "!pip install pipreqs"
   ]
  },
  {
   "cell_type": "code",
   "execution_count": null,
   "id": "8cb6716a-dab9-431a-aefb-66aee533ecea",
   "metadata": {},
   "outputs": [],
   "source": []
  }
 ],
 "metadata": {
  "kernelspec": {
   "display_name": "Python [conda env:venv2]",
   "language": "python",
   "name": "conda-env-venv2-py"
  },
  "language_info": {
   "codemirror_mode": {
    "name": "ipython",
    "version": 3
   },
   "file_extension": ".py",
   "mimetype": "text/x-python",
   "name": "python",
   "nbconvert_exporter": "python",
   "pygments_lexer": "ipython3",
   "version": "3.12.11"
  }
 },
 "nbformat": 4,
 "nbformat_minor": 5
}
